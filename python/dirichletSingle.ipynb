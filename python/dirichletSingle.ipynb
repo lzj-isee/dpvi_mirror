{
 "cells": [
  {
   "cell_type": "code",
   "execution_count": null,
   "metadata": {},
   "outputs": [],
   "source": [
    "\"\"\"\n",
    "MSVGDd method in dual space\n",
    "\"\"\"\n",
    "import os\n",
    "command = 'python main.py --config_path ./configs/default.yaml --over_writen --algorithm MSVGDd  --task dirichletSingle --particle_num 256 --lr 0.2 --alpha 0.02 --knType rbf --bwType med  --bwVal 0.1 --max_iter 5000 --max_time 120 --optim sgd --optim_rho 0.9 --reference_num 2000 --eval_interval 100 --device cuda:3 --result_dir results --seed 0'\n",
    "os.system(command)"
   ]
  },
  {
   "cell_type": "code",
   "execution_count": null,
   "metadata": {},
   "outputs": [],
   "source": [
    "\"\"\"\n",
    "MSVGDp method in primal space\n",
    "\"\"\"\n",
    "import os\n",
    "command = 'python main.py --config_path ./configs/default.yaml --over_writen --algorithm MSVGDp  --task dirichletSingle --particle_num 256 --lr 0.2 --alpha 0.02 --knType rbf --bwType med  --bwVal 0.1 --max_iter 5000 --max_time 120 --optim sgd --optim_rho 0.9 --reference_num 2000 --eval_interval 100 --device cuda:3 --result_dir results --seed 0'\n",
    "os.system(command)"
   ]
  },
  {
   "cell_type": "code",
   "execution_count": null,
   "metadata": {},
   "outputs": [],
   "source": [
    "\"\"\"\n",
    "MorSVGDp method in primal space\n",
    "\"\"\"\n",
    "import os\n",
    "command = 'python main.py --config_path ./configs/default.yaml --over_writen --algorithm MorSVGDp  --task dirichletSingle --particle_num 256 --lr 0.02 --alpha 0.02 --knType rbf --bwType med  --bwVal 0.1 --max_iter 5000 --max_time 120 --optim sgd --optim_rho 0.9 --reference_num 2000 --eval_interval 100 --device cuda:3 --result_dir results --seed 0'\n",
    "os.system(command)"
   ]
  },
  {
   "cell_type": "code",
   "execution_count": 10,
   "metadata": {},
   "outputs": [
    {
     "name": "stdout",
     "output_type": "stream",
     "text": [
      "- clear files in results/MorSVGDd_lr[5.0e-02]al[2.0e-02]kn[rbf,med]s[0]\n",
      "2023-03-12 17:01:55,311 MorSVGDd INFO: \n",
      " - algorithm: MorSVGDd \n",
      " - task: dirichletSingle \n",
      " - particle_num: 256 \n",
      " - lr: 0.05 \n",
      " - alpha: 0.02 \n",
      " - knType: rbf \n",
      " - bwType: med \n",
      " - bwVal: 0.1 \n",
      " - max_iter: 5000 \n",
      " - time_mode: False \n",
      " - max_time: 120 \n",
      " - optim: sgd \n",
      " - optim_rho: 0.9 \n",
      " - reference_num: 2000 \n",
      " - eval_interval: 100 \n",
      " - device: cuda:3 \n",
      " - result_dir: results \n",
      " - time_as_dir: False \n",
      " - seed: 0 \n",
      " - config_path: ./configs/default.yaml \n",
      " - over_writen: True \n",
      " - n_eigen_threshold: 0.98 \n",
      "\n",
      "2023-03-12 17:02:01,089 MorSVGDd INFO: count: 0, w2_primal: 2.47e-01, w2_dual: 1.97e+00\n",
      "2023-03-12 17:02:01,886 MorSVGDd INFO: count: 100, w2_primal: 1.95e-02, w2_dual: 1.76e-01\n",
      "2023-03-12 17:02:02,631 MorSVGDd INFO: count: 200, w2_primal: 1.85e-02, w2_dual: 1.65e-01\n",
      "2023-03-12 17:02:03,378 MorSVGDd INFO: count: 300, w2_primal: 1.84e-02, w2_dual: 1.61e-01\n",
      "2023-03-12 17:02:04,193 MorSVGDd INFO: count: 400, w2_primal: 1.85e-02, w2_dual: 1.60e-01\n",
      "2023-03-12 17:02:04,987 MorSVGDd INFO: count: 500, w2_primal: 1.86e-02, w2_dual: 1.60e-01\n",
      "2023-03-12 17:02:05,780 MorSVGDd INFO: count: 600, w2_primal: 1.86e-02, w2_dual: 1.60e-01\n",
      "2023-03-12 17:02:06,527 MorSVGDd INFO: count: 700, w2_primal: 1.86e-02, w2_dual: 1.60e-01\n",
      "2023-03-12 17:02:07,274 MorSVGDd INFO: count: 800, w2_primal: 1.86e-02, w2_dual: 1.60e-01\n",
      "2023-03-12 17:02:08,028 MorSVGDd INFO: count: 900, w2_primal: 1.86e-02, w2_dual: 1.60e-01\n",
      "2023-03-12 17:02:08,876 MorSVGDd INFO: count: 1000, w2_primal: 1.85e-02, w2_dual: 1.60e-01\n",
      "2023-03-12 17:02:09,624 MorSVGDd INFO: count: 1100, w2_primal: 1.85e-02, w2_dual: 1.61e-01\n",
      "2023-03-12 17:02:10,369 MorSVGDd INFO: count: 1200, w2_primal: 1.85e-02, w2_dual: 1.61e-01\n",
      "2023-03-12 17:02:11,127 MorSVGDd INFO: count: 1300, w2_primal: 1.84e-02, w2_dual: 1.61e-01\n",
      "2023-03-12 17:02:11,885 MorSVGDd INFO: count: 1400, w2_primal: 1.84e-02, w2_dual: 1.61e-01\n",
      "2023-03-12 17:02:12,728 MorSVGDd INFO: count: 1500, w2_primal: 1.84e-02, w2_dual: 1.61e-01\n",
      "2023-03-12 17:02:13,476 MorSVGDd INFO: count: 1600, w2_primal: 1.83e-02, w2_dual: 1.61e-01\n",
      "2023-03-12 17:02:14,215 MorSVGDd INFO: count: 1700, w2_primal: 1.83e-02, w2_dual: 1.61e-01\n",
      "2023-03-12 17:02:14,958 MorSVGDd INFO: count: 1800, w2_primal: 1.83e-02, w2_dual: 1.61e-01\n",
      "2023-03-12 17:02:15,703 MorSVGDd INFO: count: 1900, w2_primal: 1.83e-02, w2_dual: 1.61e-01\n",
      "2023-03-12 17:02:16,445 MorSVGDd INFO: count: 2000, w2_primal: 1.83e-02, w2_dual: 1.61e-01\n",
      "2023-03-12 17:02:17,275 MorSVGDd INFO: count: 2100, w2_primal: 1.83e-02, w2_dual: 1.61e-01\n",
      "2023-03-12 17:02:18,024 MorSVGDd INFO: count: 2200, w2_primal: 1.83e-02, w2_dual: 1.61e-01\n",
      "2023-03-12 17:02:18,782 MorSVGDd INFO: count: 2300, w2_primal: 1.83e-02, w2_dual: 1.61e-01\n",
      "2023-03-12 17:02:19,527 MorSVGDd INFO: count: 2400, w2_primal: 1.82e-02, w2_dual: 1.61e-01\n",
      "2023-03-12 17:02:20,268 MorSVGDd INFO: count: 2500, w2_primal: 1.82e-02, w2_dual: 1.61e-01\n",
      "2023-03-12 17:02:21,094 MorSVGDd INFO: count: 2600, w2_primal: 1.82e-02, w2_dual: 1.61e-01\n",
      "2023-03-12 17:02:21,836 MorSVGDd INFO: count: 2700, w2_primal: 1.82e-02, w2_dual: 1.62e-01\n",
      "2023-03-12 17:02:22,576 MorSVGDd INFO: count: 2800, w2_primal: 1.82e-02, w2_dual: 1.62e-01\n",
      "2023-03-12 17:02:23,320 MorSVGDd INFO: count: 2900, w2_primal: 1.82e-02, w2_dual: 1.62e-01\n",
      "2023-03-12 17:02:24,066 MorSVGDd INFO: count: 3000, w2_primal: 1.82e-02, w2_dual: 1.62e-01\n",
      "2023-03-12 17:02:24,815 MorSVGDd INFO: count: 3100, w2_primal: 1.82e-02, w2_dual: 1.62e-01\n",
      "2023-03-12 17:02:25,631 MorSVGDd INFO: count: 3200, w2_primal: 1.82e-02, w2_dual: 1.62e-01\n",
      "2023-03-12 17:02:26,386 MorSVGDd INFO: count: 3300, w2_primal: 1.83e-02, w2_dual: 1.62e-01\n",
      "2023-03-12 17:02:27,135 MorSVGDd INFO: count: 3400, w2_primal: 1.83e-02, w2_dual: 1.62e-01\n",
      "2023-03-12 17:02:27,881 MorSVGDd INFO: count: 3500, w2_primal: 1.83e-02, w2_dual: 1.62e-01\n",
      "2023-03-12 17:02:28,626 MorSVGDd INFO: count: 3600, w2_primal: 1.83e-02, w2_dual: 1.62e-01\n",
      "2023-03-12 17:02:29,464 MorSVGDd INFO: count: 3700, w2_primal: 1.83e-02, w2_dual: 1.62e-01\n",
      "2023-03-12 17:02:30,211 MorSVGDd INFO: count: 3800, w2_primal: 1.83e-02, w2_dual: 1.62e-01\n",
      "2023-03-12 17:02:30,962 MorSVGDd INFO: count: 3900, w2_primal: 1.83e-02, w2_dual: 1.62e-01\n",
      "2023-03-12 17:02:31,712 MorSVGDd INFO: count: 4000, w2_primal: 1.83e-02, w2_dual: 1.62e-01\n",
      "2023-03-12 17:02:32,455 MorSVGDd INFO: count: 4100, w2_primal: 1.83e-02, w2_dual: 1.62e-01\n",
      "2023-03-12 17:02:33,206 MorSVGDd INFO: count: 4200, w2_primal: 1.84e-02, w2_dual: 1.62e-01\n",
      "2023-03-12 17:02:34,034 MorSVGDd INFO: count: 4300, w2_primal: 1.84e-02, w2_dual: 1.62e-01\n",
      "2023-03-12 17:02:34,783 MorSVGDd INFO: count: 4400, w2_primal: 1.84e-02, w2_dual: 1.62e-01\n",
      "2023-03-12 17:02:35,532 MorSVGDd INFO: count: 4500, w2_primal: 1.84e-02, w2_dual: 1.62e-01\n",
      "2023-03-12 17:02:36,277 MorSVGDd INFO: count: 4600, w2_primal: 1.84e-02, w2_dual: 1.62e-01\n",
      "2023-03-12 17:02:37,023 MorSVGDd INFO: count: 4700, w2_primal: 1.84e-02, w2_dual: 1.62e-01\n",
      "2023-03-12 17:02:37,841 MorSVGDd INFO: count: 4800, w2_primal: 1.84e-02, w2_dual: 1.62e-01\n",
      "2023-03-12 17:02:38,595 MorSVGDd INFO: count: 4900, w2_primal: 1.84e-02, w2_dual: 1.62e-01\n",
      "2023-03-12 17:02:39,338 MorSVGDd INFO: count: 5000, w2_primal: 1.84e-02, w2_dual: 1.62e-01\n"
     ]
    },
    {
     "data": {
      "text/plain": [
       "0"
      ]
     },
     "execution_count": 10,
     "metadata": {},
     "output_type": "execute_result"
    }
   ],
   "source": [
    "\"\"\"\n",
    "MorSVGDd method in primal space\n",
    "\"\"\"\n",
    "import os\n",
    "command = 'python main.py --config_path ./configs/default.yaml --over_writen --algorithm MorSVGDd  --task dirichletSingle --particle_num 256 --lr 0.02 --alpha 0.02 --knType rbf --bwType med  --bwVal 0.1 --max_iter 5000 --max_time 120 --optim sgd --optim_rho 0.9 --reference_num 2000 --eval_interval 100 --device cuda:3 --result_dir results --seed 0'\n",
    "os.system(command)"
   ]
  },
  {
   "cell_type": "code",
   "execution_count": null,
   "metadata": {},
   "outputs": [],
   "source": [
    "\"\"\"\n",
    "SVMirrorD method in primal space\n",
    "\"\"\"\n",
    "import os\n",
    "command = 'python main.py --config_path ./configs/default.yaml --over_writen --algorithm SVMirrorD  --task dirichletSingle --particle_num 256 --lr 0.1 --alpha 0.02 --knType rbf --bwType med  --bwVal 0.1 --max_iter 5000 --max_time 120 --optim sgd --optim_rho 0.9 --reference_num 2000 --eval_interval 100 --device cuda:3 --result_dir results --seed 0'\n",
    "os.system(command)"
   ]
  },
  {
   "cell_type": "code",
   "execution_count": null,
   "metadata": {},
   "outputs": [],
   "source": [
    "\"\"\"\n",
    "MedBLOBd method in dual space\n",
    "\"\"\"\n",
    "import os\n",
    "command = 'python main.py --config_path ./configs/default.yaml --over_writen --algorithm MedBLOBd  --task dirichletSingle --particle_num 256 --lr 0.01 --alpha 0.02 --knType rbf --bwType nei  --bwVal 0.1 --max_iter 5000 --max_time 120 --optim sgd --optim_rho 0.9 --reference_num 2000 --eval_interval 100 --device cuda:3 --result_dir results --seed 0'\n",
    "os.system(command)"
   ]
  },
  {
   "cell_type": "code",
   "execution_count": null,
   "metadata": {},
   "outputs": [],
   "source": [
    "\"\"\"\n",
    "MedBLOBdCA method in dual space\n",
    "\"\"\"\n",
    "import os\n",
    "command = 'python main.py --config_path ./configs/default.yaml --over_writen --algorithm MedBLOBdCA  --task dirichletSingle --particle_num 256 --lr 0.01 --alpha 0.1 --knType rbf --bwType nei  --bwVal 0.1 --max_iter 5000 --max_time 120 --optim sgd --optim_rho 0.9 --reference_num 2000 --eval_interval 100 --device cuda:3 --result_dir results --seed 0'\n",
    "os.system(command)"
   ]
  },
  {
   "cell_type": "code",
   "execution_count": null,
   "metadata": {},
   "outputs": [],
   "source": [
    "\"\"\"\n",
    "MedBLOBp method in primal space\n",
    "\"\"\"\n",
    "import os\n",
    "command = 'python main.py --config_path ./configs/default.yaml --over_writen --algorithm MedBLOBp  --task dirichletSingle --particle_num 256 --lr 0.002 --alpha 0.02 --knType rbf --bwType nei  --bwVal 0.1 --max_iter 5000 --max_time 120 --optim sgd --optim_rho 0.9 --reference_num 2000 --eval_interval 100 --device cuda:3 --result_dir results --seed 0'\n",
    "os.system(command)"
   ]
  },
  {
   "cell_type": "code",
   "execution_count": null,
   "metadata": {},
   "outputs": [],
   "source": [
    "\"\"\"\n",
    "MedBLOBpCA method in primal space\n",
    "\"\"\"\n",
    "import os\n",
    "command = 'python main.py --config_path ./configs/default.yaml --over_writen --algorithm MedBLOBpCA  --task dirichletSingle --particle_num 256 --lr 0.002 --alpha 0.2 --knType rbf --bwType nei  --bwVal 0.1 --max_iter 5000 --max_time 120 --optim sgd --optim_rho 0.9 --reference_num 2000 --eval_interval 100 --device cuda:3 --result_dir results --seed 0'\n",
    "os.system(command)"
   ]
  },
  {
   "cell_type": "code",
   "execution_count": null,
   "metadata": {},
   "outputs": [],
   "source": [
    "\"\"\"\n",
    "MedLD method in primal space\n",
    "\"\"\"\n",
    "import os\n",
    "command = 'python main.py --config_path ./configs/default.yaml --over_writen --algorithm MedLD  --task dirichletSingle --particle_num 256 --lr 0.003 --alpha 0.2 --knType rbf --bwType nei  --bwVal 0.1 --max_iter 5000 --max_time 120 --optim sgd --optim_rho 0.9 --reference_num 2000 --eval_interval 100 --device cuda:3 --result_dir results --seed 0'\n",
    "os.system(command)"
   ]
  },
  {
   "cell_type": "code",
   "execution_count": null,
   "metadata": {},
   "outputs": [],
   "source": [
    "\"\"\"\n",
    "MorLD method in primal space\n",
    "\"\"\"\n",
    "import os\n",
    "command = 'python main.py --config_path ./configs/default.yaml --over_writen --algorithm MorLD  --task dirichletSingle --particle_num 256 --lr 3e-4 --alpha 0.2 --knType rbf --bwType nei  --bwVal 0.1 --max_iter 5000 --max_time 120 --optim sgd --optim_rho 0.9 --reference_num 2000 --eval_interval 100 --device cuda:3 --result_dir results --seed 0'\n",
    "os.system(command)"
   ]
  }
 ],
 "metadata": {
  "kernelspec": {
   "display_name": "py39",
   "language": "python",
   "name": "python3"
  },
  "language_info": {
   "codemirror_mode": {
    "name": "ipython",
    "version": 3
   },
   "file_extension": ".py",
   "mimetype": "text/x-python",
   "name": "python",
   "nbconvert_exporter": "python",
   "pygments_lexer": "ipython3",
   "version": "3.9.13"
  },
  "orig_nbformat": 4
 },
 "nbformat": 4,
 "nbformat_minor": 2
}
