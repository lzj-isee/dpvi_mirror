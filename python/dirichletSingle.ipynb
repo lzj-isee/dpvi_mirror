{
 "cells": [
  {
   "cell_type": "code",
   "execution_count": null,
   "metadata": {},
   "outputs": [],
   "source": [
    "\"\"\"\n",
    "MSVGDd method in dual space\n",
    "\"\"\"\n",
    "import os\n",
    "command = 'python main.py --config_path ./configs/default.yaml --over_writen --algorithm MSVGDd  --task dirichletSingle --particle_num 256 --lr 0.2 --alpha 0.02 --knType rbf --bwType med  --bwVal 0.1 --max_iter 5000 --max_time 120 --optim sgd --optim_rho 0.9 --reference_num 2000 --eval_interval 100 --device cuda:3 --result_dir results --seed 0'\n",
    "os.system(command)"
   ]
  },
  {
   "cell_type": "code",
   "execution_count": null,
   "metadata": {},
   "outputs": [],
   "source": [
    "\"\"\"\n",
    "MSVGDp method in primal space\n",
    "\"\"\"\n",
    "import os\n",
    "command = 'python main.py --config_path ./configs/default.yaml --over_writen --algorithm MSVGDp  --task dirichletSingle --particle_num 256 --lr 0.2 --alpha 0.02 --knType rbf --bwType med  --bwVal 0.1 --max_iter 5000 --max_time 120 --optim sgd --optim_rho 0.9 --reference_num 2000 --eval_interval 100 --device cuda:3 --result_dir results --seed 0'\n",
    "os.system(command)"
   ]
  },
  {
   "cell_type": "code",
   "execution_count": null,
   "metadata": {},
   "outputs": [],
   "source": [
    "\"\"\"\n",
    "MorSVGDp method in primal space\n",
    "\"\"\"\n",
    "import os\n",
    "command = 'python main.py --config_path ./configs/default.yaml --over_writen --algorithm MorSVGDp  --task dirichletSingle --particle_num 256 --lr 0.02 --alpha 0.02 --knType rbf --bwType med  --bwVal 0.1 --max_iter 5000 --max_time 120 --optim sgd --optim_rho 0.9 --reference_num 2000 --eval_interval 100 --device cuda:3 --result_dir results --seed 0'\n",
    "os.system(command)"
   ]
  },
  {
   "cell_type": "code",
   "execution_count": null,
   "metadata": {},
   "outputs": [],
   "source": [
    "\"\"\"\n",
    "MorSVGDd method in primal space\n",
    "\"\"\"\n",
    "import os\n",
    "command = 'python main.py --config_path ./configs/default.yaml --over_writen --algorithm MorSVGDd  --task dirichletSingle --particle_num 256 --lr 0.02 --alpha 0.02 --knType rbf --bwType med  --bwVal 0.1 --max_iter 5000 --max_time 120 --optim sgd --optim_rho 0.9 --reference_num 2000 --eval_interval 100 --device cuda:3 --result_dir results --seed 0'\n",
    "os.system(command)"
   ]
  },
  {
   "cell_type": "code",
   "execution_count": null,
   "metadata": {},
   "outputs": [],
   "source": [
    "\"\"\"\n",
    "SVMirrorD method in primal space\n",
    "\"\"\"\n",
    "import os\n",
    "command = 'python main.py --config_path ./configs/default.yaml --over_writen --algorithm SVMirrorD  --task dirichletSingle --particle_num 256 --lr 0.1 --alpha 0.02 --knType rbf --bwType med  --bwVal 0.1 --max_iter 5000 --max_time 120 --optim sgd --optim_rho 0.9 --reference_num 2000 --eval_interval 100 --device cuda:3 --result_dir results --seed 0'\n",
    "os.system(command)"
   ]
  },
  {
   "cell_type": "code",
   "execution_count": null,
   "metadata": {},
   "outputs": [],
   "source": [
    "\"\"\"\n",
    "MedBLOBd method in dual space\n",
    "\"\"\"\n",
    "import os\n",
    "command = 'python main.py --config_path ./configs/default.yaml --over_writen --algorithm MedBLOBd  --task dirichletSingle --particle_num 256 --lr 0.01 --alpha 0.02 --knType rbf --bwType nei  --bwVal 0.1 --max_iter 5000 --max_time 120 --optim sgd --optim_rho 0.9 --reference_num 2000 --eval_interval 100 --device cuda:3 --result_dir results --seed 0'\n",
    "os.system(command)"
   ]
  },
  {
   "cell_type": "code",
   "execution_count": null,
   "metadata": {},
   "outputs": [],
   "source": [
    "\"\"\"\n",
    "MedBLOBdCA method in dual space\n",
    "\"\"\"\n",
    "import os\n",
    "command = 'python main.py --config_path ./configs/default.yaml --over_writen --algorithm MedBLOBdCA  --task dirichletSingle --particle_num 256 --lr 0.01 --alpha 0.1 --knType rbf --bwType nei  --bwVal 0.1 --max_iter 5000 --max_time 120 --optim sgd --optim_rho 0.9 --reference_num 2000 --eval_interval 100 --device cuda:3 --result_dir results --seed 0'\n",
    "os.system(command)"
   ]
  },
  {
   "cell_type": "code",
   "execution_count": null,
   "metadata": {},
   "outputs": [],
   "source": [
    "\"\"\"\n",
    "MedBLOBp method in primal space\n",
    "\"\"\"\n",
    "import os\n",
    "command = 'python main.py --config_path ./configs/default.yaml --over_writen --algorithm MedBLOBp  --task dirichletSingle --particle_num 256 --lr 0.002 --alpha 0.02 --knType rbf --bwType nei  --bwVal 0.1 --max_iter 5000 --max_time 120 --optim sgd --optim_rho 0.9 --reference_num 2000 --eval_interval 100 --device cuda:3 --result_dir results --seed 0'\n",
    "os.system(command)"
   ]
  },
  {
   "cell_type": "code",
   "execution_count": null,
   "metadata": {},
   "outputs": [],
   "source": [
    "\"\"\"\n",
    "MedBLOBpCA method in primal space\n",
    "\"\"\"\n",
    "import os\n",
    "command = 'python main.py --config_path ./configs/default.yaml --over_writen --algorithm MedBLOBpCA  --task dirichletSingle --particle_num 256 --lr 0.002 --alpha 0.2 --knType rbf --bwType nei  --bwVal 0.1 --max_iter 5000 --max_time 120 --optim sgd --optim_rho 0.9 --reference_num 2000 --eval_interval 100 --device cuda:3 --result_dir results --seed 0'\n",
    "os.system(command)"
   ]
  },
  {
   "cell_type": "code",
   "execution_count": null,
   "metadata": {},
   "outputs": [],
   "source": [
    "\"\"\"\n",
    "MedLD method in primal space\n",
    "\"\"\"\n",
    "import os\n",
    "command = 'python main.py --config_path ./configs/default.yaml --over_writen --algorithm MedLD  --task dirichletSingle --particle_num 256 --lr 0.003 --alpha 0.2 --knType rbf --bwType nei  --bwVal 0.1 --max_iter 5000 --max_time 120 --optim sgd --optim_rho 0.9 --reference_num 2000 --eval_interval 100 --device cuda:3 --result_dir results --seed 0'\n",
    "os.system(command)"
   ]
  },
  {
   "cell_type": "code",
   "execution_count": null,
   "metadata": {},
   "outputs": [],
   "source": [
    "\"\"\"\n",
    "MorLD method in primal space\n",
    "\"\"\"\n",
    "import os\n",
    "command = 'python main.py --config_path ./configs/default.yaml --over_writen --algorithm MorLD  --task dirichletSingle --particle_num 256 --lr 3e-4 --alpha 0.2 --knType rbf --bwType nei  --bwVal 0.1 --max_iter 5000 --max_time 120 --optim sgd --optim_rho 0.9 --reference_num 2000 --eval_interval 100 --device cuda:3 --result_dir results --seed 0'\n",
    "os.system(command)"
   ]
  }
 ],
 "metadata": {
  "kernelspec": {
   "display_name": "py39",
   "language": "python",
   "name": "python3"
  },
  "language_info": {
   "codemirror_mode": {
    "name": "ipython",
    "version": 3
   },
   "file_extension": ".py",
   "mimetype": "text/x-python",
   "name": "python",
   "nbconvert_exporter": "python",
   "pygments_lexer": "ipython3",
   "version": "3.9.13"
  },
  "orig_nbformat": 4
 },
 "nbformat": 4,
 "nbformat_minor": 2
}
