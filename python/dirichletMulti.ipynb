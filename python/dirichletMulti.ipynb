{
 "cells": [
  {
   "cell_type": "code",
   "execution_count": 17,
   "metadata": {},
   "outputs": [
    {
     "name": "stdout",
     "output_type": "stream",
     "text": [
      "- clear files in results/MSVGDd_lr[2.0e-01]al[2.0e-02]kn[rbf,med]s[0]\n",
      "2023-03-13 00:19:55,447 MSVGDd INFO: \n",
      " - algorithm: MSVGDd \n",
      " - task: dirichletMulti \n",
      " - particle_num: 256 \n",
      " - lr: 0.2 \n",
      " - alpha: 0.02 \n",
      " - knType: rbf \n",
      " - bwType: med \n",
      " - bwVal: 0.1 \n",
      " - max_iter: 5000 \n",
      " - time_mode: False \n",
      " - max_time: 120 \n",
      " - optim: sgd \n",
      " - optim_rho: 0.9 \n",
      " - reference_num: 2000 \n",
      " - eval_interval: 100 \n",
      " - device: cuda:3 \n",
      " - result_dir: results \n",
      " - time_as_dir: False \n",
      " - seed: 0 \n",
      " - config_path: ./configs/default.yaml \n",
      " - over_writen: True \n",
      " - n_eigen_threshold: 0.98 \n",
      "\n"
     ]
    },
    {
     "name": "stderr",
     "output_type": "stream",
     "text": [
      "\n",
      "-------------------------------------------------------------------------------\n",
      "main.py 105 <module>\n",
      "main(opts)\n",
      "\n",
      "main.py 19 main\n",
      "task = importlib.import_module('tasks.%s'%opts.task).__getattribute__(opts.task)(opts, myloader.get_dataset_info())\n",
      "\n",
      "dirichletMulti.py 26 __init__\n",
      "utils.common.check_nan(self.reference_dual, None, -1, None)\n",
      "\n",
      "grad_mode.py 27 decorate_context\n",
      "return func(*args, **kwargs)\n",
      "\n",
      "common.py 42 check_nan\n",
      "raise ValueError(message)\n",
      "\n",
      "ValueError:\n",
      "support value Nan at iter -1\n"
     ]
    },
    {
     "data": {
      "text/plain": [
       "256"
      ]
     },
     "execution_count": 17,
     "metadata": {},
     "output_type": "execute_result"
    }
   ],
   "source": [
    "\"\"\"\n",
    "MSVGDd method in dual space\n",
    "\"\"\"\n",
    "import os\n",
    "command = 'python main.py --config_path ./configs/default.yaml --over_writen --algorithm MSVGDd  --task dirichletMulti --particle_num 256 --lr 0.2 --alpha 0.02 --knType rbf --bwType med  --bwVal 0.1 --max_iter 5000 --max_time 120 --optim sgd --optim_rho 0.9 --reference_num 2000 --eval_interval 100 --device cuda:3 --result_dir results --seed 0'\n",
    "os.system(command)"
   ]
  }
 ],
 "metadata": {
  "kernelspec": {
   "display_name": "py39",
   "language": "python",
   "name": "python3"
  },
  "language_info": {
   "codemirror_mode": {
    "name": "ipython",
    "version": 3
   },
   "file_extension": ".py",
   "mimetype": "text/x-python",
   "name": "python",
   "nbconvert_exporter": "python",
   "pygments_lexer": "ipython3",
   "version": "3.9.13"
  },
  "orig_nbformat": 4
 },
 "nbformat": 4,
 "nbformat_minor": 2
}
