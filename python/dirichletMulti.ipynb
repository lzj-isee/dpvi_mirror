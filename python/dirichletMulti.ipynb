{
 "cells": [
  {
   "cell_type": "code",
   "execution_count": null,
   "metadata": {},
   "outputs": [],
   "source": [
    "\"\"\"\n",
    "MSVGDd method in dual space\n",
    "\"\"\"\n",
    "import os\n",
    "command = 'python main.py --config_path ./configs/default.yaml --over_writen --algorithm MSVGDd  --task dirichletMulti --particle_num 256 --lr 1.0 --alpha 0.02 --knType rbf --bwType med  --bwVal 0.1 --max_iter 5000 --max_time 120 --optim sgd --optim_rho 0.9 --reference_num 2000 --eval_interval 100 --device cuda:3 --result_dir results --seed 0'\n",
    "os.system(command)"
   ]
  },
  {
   "cell_type": "code",
   "execution_count": null,
   "metadata": {},
   "outputs": [],
   "source": [
    "\"\"\"\n",
    "MSVGDp method\n",
    "\"\"\"\n",
    "import os\n",
    "command = 'python main.py --config_path ./configs/default.yaml --over_writen --algorithm MSVGDp  --task dirichletMulti --particle_num 256 --lr 4.0 --alpha 0.02 --knType rbf --bwType med  --bwVal 0.1 --max_iter 5000 --max_time 120 --optim sgd --optim_rho 0.9 --reference_num 2000 --eval_interval 100 --device cuda:3 --result_dir results --seed 0'\n",
    "os.system(command)"
   ]
  },
  {
   "cell_type": "code",
   "execution_count": null,
   "metadata": {},
   "outputs": [],
   "source": [
    "\"\"\"\n",
    "MedBLOBd method in dual space\n",
    "\"\"\"\n",
    "import os\n",
    "command = 'python main.py --config_path ./configs/default.yaml --over_writen --algorithm MedBLOBd  --task dirichletMulti --particle_num 256 --lr 0.03 --alpha 0.02 --knType rbf --bwType nei  --bwVal 0.1 --max_iter 5000 --max_time 120 --optim sgd --optim_rho 0.9 --reference_num 2000 --eval_interval 100 --device cuda:3 --result_dir results --seed 0'\n",
    "os.system(command)"
   ]
  },
  {
   "cell_type": "code",
   "execution_count": null,
   "metadata": {},
   "outputs": [],
   "source": [
    "\"\"\"\n",
    "MedBLOBdCA method in dual space\n",
    "\"\"\"\n",
    "import os\n",
    "command = 'python main.py --config_path ./configs/default.yaml --over_writen --algorithm MedBLOBdCA  --task dirichletMulti --particle_num 256 --lr 0.02 --alpha 0.05 --knType rbf --bwType nei  --bwVal 0.1 --max_iter 5000 --max_time 120 --optim sgd --optim_rho 0.9 --reference_num 2000 --eval_interval 100 --device cuda:3 --result_dir results --seed 0'\n",
    "os.system(command)"
   ]
  },
  {
   "cell_type": "code",
   "execution_count": null,
   "metadata": {},
   "outputs": [],
   "source": [
    "\"\"\"\n",
    "MedBLOBp method\n",
    "\"\"\"\n",
    "import os\n",
    "command = 'python main.py --config_path ./configs/default.yaml --over_writen --algorithm MedBLOBp  --task dirichletMulti --particle_num 256 --lr 0.004 --alpha 0.01 --knType rbf --bwType nei  --bwVal 0.1 --max_iter 5000 --max_time 120 --optim sgd --optim_rho 0.9 --reference_num 2000 --eval_interval 100 --device cuda:3 --result_dir results --seed 0'\n",
    "os.system(command)"
   ]
  },
  {
   "cell_type": "code",
   "execution_count": null,
   "metadata": {},
   "outputs": [],
   "source": [
    "\"\"\"\n",
    "MedBLOBpCA method\n",
    "\"\"\"\n",
    "import os\n",
    "command = 'python main.py --config_path ./configs/default.yaml --over_writen --algorithm MedBLOBpCA  --task dirichletMulti --particle_num 256 --lr 0.004 --alpha 0.04 --knType rbf --bwType nei  --bwVal 0.1 --max_iter 5000 --max_time 120 --optim sgd --optim_rho 0.9 --reference_num 2000 --eval_interval 100 --device cuda:3 --result_dir results --seed 0'\n",
    "os.system(command)"
   ]
  }
 ],
 "metadata": {
  "kernelspec": {
   "display_name": "py39",
   "language": "python",
   "name": "python3"
  },
  "language_info": {
   "codemirror_mode": {
    "name": "ipython",
    "version": 3
   },
   "file_extension": ".py",
   "mimetype": "text/x-python",
   "name": "python",
   "nbconvert_exporter": "python",
   "pygments_lexer": "ipython3",
   "version": "3.9.13"
  },
  "orig_nbformat": 4
 },
 "nbformat": 4,
 "nbformat_minor": 2
}
